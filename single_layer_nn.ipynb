{
  "nbformat": 4,
  "nbformat_minor": 0,
  "metadata": {
    "colab": {
      "name": "single_layer_nn.ipnyb",
      "provenance": [],
      "authorship_tag": "ABX9TyNv9DosrY/b5Q4sKKEq3AHP",
      "include_colab_link": true
    },
    "kernelspec": {
      "name": "python3",
      "display_name": "Python 3"
    }
  },
  "cells": [
    {
      "cell_type": "markdown",
      "metadata": {
        "id": "view-in-github",
        "colab_type": "text"
      },
      "source": [
        "<a href=\"https://colab.research.google.com/github/Preyansh17/Pytorch/blob/master/single_layer_nn.ipynb\" target=\"_parent\"><img src=\"https://colab.research.google.com/assets/colab-badge.svg\" alt=\"Open In Colab\"/></a>"
      ]
    },
    {
      "cell_type": "markdown",
      "metadata": {
        "id": "2P1BQgPDMnCK",
        "colab_type": "text"
      },
      "source": [
        "Credits to @knighterudite https://github.com/knighterudite/ML101/blob/master/one_layer_nn.ipynb"
      ]
    },
    {
      "cell_type": "code",
      "metadata": {
        "id": "0E-QRH3QMjT-",
        "colab_type": "code",
        "colab": {}
      },
      "source": [
        "import torch\n",
        "import torch.nn as nn\n",
        "import matplotlib.pyplot as plt\n",
        "import pandas as pd\n",
        "import numpy as np"
      ],
      "execution_count": 1,
      "outputs": []
    },
    {
      "cell_type": "code",
      "metadata": {
        "id": "uIQoQqzmNeJT",
        "colab_type": "code",
        "colab": {
          "base_uri": "https://localhost:8080/",
          "height": 204
        },
        "outputId": "88c6fe68-4983-42ff-9ba1-2c60f724e41f"
      },
      "source": [
        "data = pd.read_csv(\"https://archive.ics.uci.edu/ml/machine-learning-databases/00479/SomervilleHappinessSurvey2015.csv\", encoding='utf-16')\n",
        "data.head()"
      ],
      "execution_count": 2,
      "outputs": [
        {
          "output_type": "execute_result",
          "data": {
            "text/html": [
              "<div>\n",
              "<style scoped>\n",
              "    .dataframe tbody tr th:only-of-type {\n",
              "        vertical-align: middle;\n",
              "    }\n",
              "\n",
              "    .dataframe tbody tr th {\n",
              "        vertical-align: top;\n",
              "    }\n",
              "\n",
              "    .dataframe thead th {\n",
              "        text-align: right;\n",
              "    }\n",
              "</style>\n",
              "<table border=\"1\" class=\"dataframe\">\n",
              "  <thead>\n",
              "    <tr style=\"text-align: right;\">\n",
              "      <th></th>\n",
              "      <th>D</th>\n",
              "      <th>X1</th>\n",
              "      <th>X2</th>\n",
              "      <th>X3</th>\n",
              "      <th>X4</th>\n",
              "      <th>X5</th>\n",
              "      <th>X6</th>\n",
              "    </tr>\n",
              "  </thead>\n",
              "  <tbody>\n",
              "    <tr>\n",
              "      <th>0</th>\n",
              "      <td>0</td>\n",
              "      <td>3</td>\n",
              "      <td>3</td>\n",
              "      <td>3</td>\n",
              "      <td>4</td>\n",
              "      <td>2</td>\n",
              "      <td>4</td>\n",
              "    </tr>\n",
              "    <tr>\n",
              "      <th>1</th>\n",
              "      <td>0</td>\n",
              "      <td>3</td>\n",
              "      <td>2</td>\n",
              "      <td>3</td>\n",
              "      <td>5</td>\n",
              "      <td>4</td>\n",
              "      <td>3</td>\n",
              "    </tr>\n",
              "    <tr>\n",
              "      <th>2</th>\n",
              "      <td>1</td>\n",
              "      <td>5</td>\n",
              "      <td>3</td>\n",
              "      <td>3</td>\n",
              "      <td>3</td>\n",
              "      <td>3</td>\n",
              "      <td>5</td>\n",
              "    </tr>\n",
              "    <tr>\n",
              "      <th>3</th>\n",
              "      <td>0</td>\n",
              "      <td>5</td>\n",
              "      <td>4</td>\n",
              "      <td>3</td>\n",
              "      <td>3</td>\n",
              "      <td>3</td>\n",
              "      <td>5</td>\n",
              "    </tr>\n",
              "    <tr>\n",
              "      <th>4</th>\n",
              "      <td>0</td>\n",
              "      <td>5</td>\n",
              "      <td>4</td>\n",
              "      <td>3</td>\n",
              "      <td>3</td>\n",
              "      <td>3</td>\n",
              "      <td>5</td>\n",
              "    </tr>\n",
              "  </tbody>\n",
              "</table>\n",
              "</div>"
            ],
            "text/plain": [
              "   D  X1  X2  X3  X4  X5  X6\n",
              "0  0   3   3   3   4   2   4\n",
              "1  0   3   2   3   5   4   3\n",
              "2  1   5   3   3   3   3   5\n",
              "3  0   5   4   3   3   3   5\n",
              "4  0   5   4   3   3   3   5"
            ]
          },
          "metadata": {
            "tags": []
          },
          "execution_count": 2
        }
      ]
    },
    {
      "cell_type": "markdown",
      "metadata": {
        "id": "QWE3vypENtO8",
        "colab_type": "text"
      },
      "source": [
        "D = decision attribute (D) with values 0 (unhappy) and 1 (happy)\n",
        "\n",
        "*   X1 = the availability of information about the city services\n",
        "*   X2 = the cost of housing\n",
        "*   X3 = the overall quality of public schools\n",
        "*   X4 = your trust in the local police\n",
        "*   X5 = the maintenance of streets and sidewalks\n",
        "*   X6 = the availability of social community events\n",
        "\n",
        "\n",
        "Attributes X1 to X6 have values 1 to 5."
      ]
    },
    {
      "cell_type": "code",
      "metadata": {
        "id": "UmnHWNMaOebo",
        "colab_type": "code",
        "colab": {
          "base_uri": "https://localhost:8080/",
          "height": 34
        },
        "outputId": "f091c35e-b2d3-427b-c89e-78595d125e17"
      },
      "source": [
        "target = data[data.columns[0]]\n",
        "target = np.array(target)\n",
        "target = torch.from_numpy(target)\n",
        "target = (torch.unsqueeze(target, 1)).float()\n",
        "target.size()"
      ],
      "execution_count": 3,
      "outputs": [
        {
          "output_type": "execute_result",
          "data": {
            "text/plain": [
              "torch.Size([143, 1])"
            ]
          },
          "metadata": {
            "tags": []
          },
          "execution_count": 3
        }
      ]
    },
    {
      "cell_type": "markdown",
      "metadata": {
        "id": "rwpA330YQnbB",
        "colab_type": "text"
      },
      "source": [
        "We have 143 training examples."
      ]
    },
    {
      "cell_type": "code",
      "metadata": {
        "id": "RptJoRS-Qq1B",
        "colab_type": "code",
        "colab": {
          "base_uri": "https://localhost:8080/",
          "height": 34
        },
        "outputId": "9f78da7f-c0d4-4ad1-d70c-15d0c6e256ca"
      },
      "source": [
        "input = data[data.columns[1:]]\n",
        "input = np.array(input)\n",
        "input = (torch.from_numpy(input)).float()\n",
        "input.size()"
      ],
      "execution_count": 4,
      "outputs": [
        {
          "output_type": "execute_result",
          "data": {
            "text/plain": [
              "torch.Size([143, 6])"
            ]
          },
          "metadata": {
            "tags": []
          },
          "execution_count": 4
        }
      ]
    },
    {
      "cell_type": "markdown",
      "metadata": {
        "id": "4S4GH9k5RNOO",
        "colab_type": "text"
      },
      "source": [
        "We have 6 input features ranging from X1 to X6.\n"
      ]
    },
    {
      "cell_type": "code",
      "metadata": {
        "id": "eWb_vQUMRRxJ",
        "colab_type": "code",
        "colab": {
          "base_uri": "https://localhost:8080/",
          "height": 85
        },
        "outputId": "6ca05afd-4ea5-41b1-d0d6-c11d6807868a"
      },
      "source": [
        "model = nn.Sequential(nn.Linear(6,1),nn.Sigmoid())\n",
        "model"
      ],
      "execution_count": 5,
      "outputs": [
        {
          "output_type": "execute_result",
          "data": {
            "text/plain": [
              "Sequential(\n",
              "  (0): Linear(in_features=6, out_features=1, bias=True)\n",
              "  (1): Sigmoid()\n",
              ")"
            ]
          },
          "metadata": {
            "tags": []
          },
          "execution_count": 5
        }
      ]
    },
    {
      "cell_type": "code",
      "metadata": {
        "id": "nvDNmlXWXA-g",
        "colab_type": "code",
        "colab": {
          "base_uri": "https://localhost:8080/",
          "height": 34
        },
        "outputId": "33ee8426-f618-4490-dab7-ee35e50de105"
      },
      "source": [
        "loss_function = torch.nn.BCELoss()\n",
        "loss_function"
      ],
      "execution_count": 6,
      "outputs": [
        {
          "output_type": "execute_result",
          "data": {
            "text/plain": [
              "BCELoss()"
            ]
          },
          "metadata": {
            "tags": []
          },
          "execution_count": 6
        }
      ]
    },
    {
      "cell_type": "code",
      "metadata": {
        "id": "4UdqcKcvY6Ur",
        "colab_type": "code",
        "colab": {
          "base_uri": "https://localhost:8080/",
          "height": 153
        },
        "outputId": "f265e1e7-637c-4a82-a5f0-46c327849310"
      },
      "source": [
        "optimizer = torch.optim.Adam(model.parameters(), lr=0.01)\n",
        "optimizer"
      ],
      "execution_count": 7,
      "outputs": [
        {
          "output_type": "execute_result",
          "data": {
            "text/plain": [
              "Adam (\n",
              "Parameter Group 0\n",
              "    amsgrad: False\n",
              "    betas: (0.9, 0.999)\n",
              "    eps: 1e-08\n",
              "    lr: 0.01\n",
              "    weight_decay: 0\n",
              ")"
            ]
          },
          "metadata": {
            "tags": []
          },
          "execution_count": 7
        }
      ]
    },
    {
      "cell_type": "code",
      "metadata": {
        "id": "JAS33btvaWdi",
        "colab_type": "code",
        "colab": {
          "base_uri": "https://localhost:8080/",
          "height": 187
        },
        "outputId": "39e058f6-4357-4a69-9ccc-cc39591cc613"
      },
      "source": [
        "loss_list = []\n",
        "epochs = 100\n",
        "\n",
        "for i in range(epochs):\n",
        "  pred_out = model(input)\n",
        "  loss = loss_function(pred_out, target)\n",
        "  loss_list.append(loss.item())\n",
        "  optimizer.zero_grad()\n",
        "  loss.backward()\n",
        "  optimizer.step()\n",
        "\n",
        "  if i%10 == 0:\n",
        "    print(\"Epoch: {}, Loss: {}\".format(i, loss.item()))"
      ],
      "execution_count": 8,
      "outputs": [
        {
          "output_type": "stream",
          "text": [
            "Epoch: 0, Loss: 0.7559292912483215\n",
            "Epoch: 10, Loss: 0.728759765625\n",
            "Epoch: 20, Loss: 0.7174119353294373\n",
            "Epoch: 30, Loss: 0.7057839632034302\n",
            "Epoch: 40, Loss: 0.6962083578109741\n",
            "Epoch: 50, Loss: 0.688382089138031\n",
            "Epoch: 60, Loss: 0.6819198727607727\n",
            "Epoch: 70, Loss: 0.676762044429779\n",
            "Epoch: 80, Loss: 0.6726478338241577\n",
            "Epoch: 90, Loss: 0.6693857908248901\n"
          ],
          "name": "stdout"
        }
      ]
    },
    {
      "cell_type": "code",
      "metadata": {
        "id": "0ZwrJT8Nckug",
        "colab_type": "code",
        "colab": {
          "base_uri": "https://localhost:8080/",
          "height": 377
        },
        "outputId": "899d39f5-088f-469d-bd81-8152dd8c17f2"
      },
      "source": [
        "plt.figure(figsize = (8,6))\n",
        "plt.plot(range(0,100), loss_list)\n",
        "plt.show()"
      ],
      "execution_count": 9,
      "outputs": [
        {
          "output_type": "display_data",
          "data": {
            "image/png": "[encoded data removed]",
            "text/plain": [
              "<Figure size 576x432 with 1 Axes>"
            ]
          },
          "metadata": {
            "tags": [],
            "needs_background": "light"
          }
        }
      ]
    }
  ]
}