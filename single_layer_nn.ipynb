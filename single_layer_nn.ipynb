{
  "nbformat": 4,
  "nbformat_minor": 0,
  "metadata": {
    "colab": {
      "name": "single_layer_nn.ipnyb",
      "provenance": [],
      "authorship_tag": "ABX9TyMWoOFC/noxfstjUuHV4vZg",
      "include_colab_link": true
    },
    "kernelspec": {
      "name": "python3",
      "display_name": "Python 3"
    }
  },
  "cells": [
    {
      "cell_type": "markdown",
      "metadata": {
        "id": "view-in-github",
        "colab_type": "text"
      },
      "source": [
        "<a href=\"https://colab.research.google.com/github/Preyansh17/Pytorch/blob/master/single_layer_nn_ipnyb.ipynb\" target=\"_parent\"><img src=\"https://colab.research.google.com/assets/colab-badge.svg\" alt=\"Open In Colab\"/></a>"
      ]
    },
    {
      "cell_type": "markdown",
      "metadata": {
        "id": "2P1BQgPDMnCK",
        "colab_type": "text"
      },
      "source": [
        "Credits to @knighterudite https://github.com/knighterudite/ML101/blob/master/one_layer_nn.ipynb"
      ]
    },
    {
      "cell_type": "code",
      "metadata": {
        "id": "0E-QRH3QMjT-",
        "colab_type": "code",
        "colab": {}
      },
      "source": [
        "import torch\n",
        "import torch.nn as nn\n",
        "import matplotlib.pyplot as plt\n",
        "import pandas as pd\n",
        "import numpy as np"
      ],
      "execution_count": 87,
      "outputs": []
    },
    {
      "cell_type": "code",
      "metadata": {
        "id": "uIQoQqzmNeJT",
        "colab_type": "code",
        "colab": {
          "base_uri": "https://localhost:8080/",
          "height": 204
        },
        "outputId": "0b0fc642-2ada-4d68-c929-a22db046c242"
      },
      "source": [
        "data = pd.read_csv(\"https://archive.ics.uci.edu/ml/machine-learning-databases/00479/SomervilleHappinessSurvey2015.csv\", encoding='utf-16')\n",
        "data.head()"
      ],
      "execution_count": 88,
      "outputs": [
        {
          "output_type": "execute_result",
          "data": {
            "text/html": [
              "<div>\n",
              "<style scoped>\n",
              "    .dataframe tbody tr th:only-of-type {\n",
              "        vertical-align: middle;\n",
              "    }\n",
              "\n",
              "    .dataframe tbody tr th {\n",
              "        vertical-align: top;\n",
              "    }\n",
              "\n",
              "    .dataframe thead th {\n",
              "        text-align: right;\n",
              "    }\n",
              "</style>\n",
              "<table border=\"1\" class=\"dataframe\">\n",
              "  <thead>\n",
              "    <tr style=\"text-align: right;\">\n",
              "      <th></th>\n",
              "      <th>D</th>\n",
              "      <th>X1</th>\n",
              "      <th>X2</th>\n",
              "      <th>X3</th>\n",
              "      <th>X4</th>\n",
              "      <th>X5</th>\n",
              "      <th>X6</th>\n",
              "    </tr>\n",
              "  </thead>\n",
              "  <tbody>\n",
              "    <tr>\n",
              "      <th>0</th>\n",
              "      <td>0</td>\n",
              "      <td>3</td>\n",
              "      <td>3</td>\n",
              "      <td>3</td>\n",
              "      <td>4</td>\n",
              "      <td>2</td>\n",
              "      <td>4</td>\n",
              "    </tr>\n",
              "    <tr>\n",
              "      <th>1</th>\n",
              "      <td>0</td>\n",
              "      <td>3</td>\n",
              "      <td>2</td>\n",
              "      <td>3</td>\n",
              "      <td>5</td>\n",
              "      <td>4</td>\n",
              "      <td>3</td>\n",
              "    </tr>\n",
              "    <tr>\n",
              "      <th>2</th>\n",
              "      <td>1</td>\n",
              "      <td>5</td>\n",
              "      <td>3</td>\n",
              "      <td>3</td>\n",
              "      <td>3</td>\n",
              "      <td>3</td>\n",
              "      <td>5</td>\n",
              "    </tr>\n",
              "    <tr>\n",
              "      <th>3</th>\n",
              "      <td>0</td>\n",
              "      <td>5</td>\n",
              "      <td>4</td>\n",
              "      <td>3</td>\n",
              "      <td>3</td>\n",
              "      <td>3</td>\n",
              "      <td>5</td>\n",
              "    </tr>\n",
              "    <tr>\n",
              "      <th>4</th>\n",
              "      <td>0</td>\n",
              "      <td>5</td>\n",
              "      <td>4</td>\n",
              "      <td>3</td>\n",
              "      <td>3</td>\n",
              "      <td>3</td>\n",
              "      <td>5</td>\n",
              "    </tr>\n",
              "  </tbody>\n",
              "</table>\n",
              "</div>"
            ],
            "text/plain": [
              "   D  X1  X2  X3  X4  X5  X6\n",
              "0  0   3   3   3   4   2   4\n",
              "1  0   3   2   3   5   4   3\n",
              "2  1   5   3   3   3   3   5\n",
              "3  0   5   4   3   3   3   5\n",
              "4  0   5   4   3   3   3   5"
            ]
          },
          "metadata": {
            "tags": []
          },
          "execution_count": 88
        }
      ]
    },
    {
      "cell_type": "markdown",
      "metadata": {
        "id": "QWE3vypENtO8",
        "colab_type": "text"
      },
      "source": [
        "D = decision attribute (D) with values 0 (unhappy) and 1 (happy)\n",
        "\n",
        "*   X1 = the availability of information about the city services\n",
        "*   X2 = the cost of housing\n",
        "*   X3 = the overall quality of public schools\n",
        "*   X4 = your trust in the local police\n",
        "*   X5 = the maintenance of streets and sidewalks\n",
        "*   X6 = the availability of social community events\n",
        "\n",
        "\n",
        "Attributes X1 to X6 have values 1 to 5."
      ]
    },
    {
      "cell_type": "code",
      "metadata": {
        "id": "UmnHWNMaOebo",
        "colab_type": "code",
        "colab": {
          "base_uri": "https://localhost:8080/",
          "height": 34
        },
        "outputId": "a054adb1-dfb3-4970-abdd-1f294f237ac9"
      },
      "source": [
        "target = data[data.columns[0]]\n",
        "target = np.array(target)\n",
        "target = torch.from_numpy(target)\n",
        "target = (torch.unsqueeze(target, 1)).float()\n",
        "target.size()"
      ],
      "execution_count": 89,
      "outputs": [
        {
          "output_type": "execute_result",
          "data": {
            "text/plain": [
              "torch.Size([143, 1])"
            ]
          },
          "metadata": {
            "tags": []
          },
          "execution_count": 89
        }
      ]
    },
    {
      "cell_type": "markdown",
      "metadata": {
        "id": "rwpA330YQnbB",
        "colab_type": "text"
      },
      "source": [
        "We have 143 training examples."
      ]
    },
    {
      "cell_type": "code",
      "metadata": {
        "id": "RptJoRS-Qq1B",
        "colab_type": "code",
        "colab": {
          "base_uri": "https://localhost:8080/",
          "height": 34
        },
        "outputId": "9ab11954-7d57-4729-cb18-fef0b47e2055"
      },
      "source": [
        "input = data[data.columns[1:]]\n",
        "input = np.array(input)\n",
        "input = (torch.from_numpy(input)).float()\n",
        "input.size()"
      ],
      "execution_count": 90,
      "outputs": [
        {
          "output_type": "execute_result",
          "data": {
            "text/plain": [
              "torch.Size([143, 6])"
            ]
          },
          "metadata": {
            "tags": []
          },
          "execution_count": 90
        }
      ]
    },
    {
      "cell_type": "markdown",
      "metadata": {
        "id": "4S4GH9k5RNOO",
        "colab_type": "text"
      },
      "source": [
        "We have 6 input features ranging from X1 to X6.\n"
      ]
    },
    {
      "cell_type": "code",
      "metadata": {
        "id": "eWb_vQUMRRxJ",
        "colab_type": "code",
        "colab": {
          "base_uri": "https://localhost:8080/",
          "height": 85
        },
        "outputId": "0aa27969-8121-4394-ff51-56190e91f5e6"
      },
      "source": [
        "model = nn.Sequential(nn.Linear(6,1),nn.Sigmoid())\n",
        "model"
      ],
      "execution_count": 91,
      "outputs": [
        {
          "output_type": "execute_result",
          "data": {
            "text/plain": [
              "Sequential(\n",
              "  (0): Linear(in_features=6, out_features=1, bias=True)\n",
              "  (1): Sigmoid()\n",
              ")"
            ]
          },
          "metadata": {
            "tags": []
          },
          "execution_count": 91
        }
      ]
    },
    {
      "cell_type": "code",
      "metadata": {
        "id": "nvDNmlXWXA-g",
        "colab_type": "code",
        "colab": {
          "base_uri": "https://localhost:8080/",
          "height": 34
        },
        "outputId": "b9060821-464a-4430-cb73-0ebca9a73611"
      },
      "source": [
        "loss_function = torch.nn.BCELoss()\n",
        "loss_function"
      ],
      "execution_count": 92,
      "outputs": [
        {
          "output_type": "execute_result",
          "data": {
            "text/plain": [
              "BCELoss()"
            ]
          },
          "metadata": {
            "tags": []
          },
          "execution_count": 92
        }
      ]
    },
    {
      "cell_type": "code",
      "metadata": {
        "id": "4UdqcKcvY6Ur",
        "colab_type": "code",
        "colab": {
          "base_uri": "https://localhost:8080/",
          "height": 153
        },
        "outputId": "6d42d871-ecea-4491-ac85-4e37df8753a1"
      },
      "source": [
        "optimizer = torch.optim.Adam(model.parameters(), lr=0.001)\n",
        "optimizer"
      ],
      "execution_count": 96,
      "outputs": [
        {
          "output_type": "execute_result",
          "data": {
            "text/plain": [
              "Adam (\n",
              "Parameter Group 0\n",
              "    amsgrad: False\n",
              "    betas: (0.9, 0.999)\n",
              "    eps: 1e-08\n",
              "    lr: 0.001\n",
              "    weight_decay: 0\n",
              ")"
            ]
          },
          "metadata": {
            "tags": []
          },
          "execution_count": 96
        }
      ]
    },
    {
      "cell_type": "code",
      "metadata": {
        "id": "JAS33btvaWdi",
        "colab_type": "code",
        "colab": {
          "base_uri": "https://localhost:8080/",
          "height": 187
        },
        "outputId": "bffa8ed3-99e1-41d6-8a2a-c8c8b04ce275"
      },
      "source": [
        "loss_list = []\n",
        "epochs = 100\n",
        "\n",
        "for i in range(epochs):\n",
        "  pred_out = model(input)\n",
        "  loss = loss_function(pred_out, target)\n",
        "  loss_list.append(loss.item())\n",
        "  optimizer.zero_grad()\n",
        "  loss.backward()\n",
        "  optimizer.step()\n",
        "\n",
        "  if i%10 == 0:\n",
        "    print(\"Epoch: {}, Loss: {}\".format(i, loss.item()))"
      ],
      "execution_count": 97,
      "outputs": [
        {
          "output_type": "stream",
          "text": [
            "Epoch: 0, Loss: 0.6935909986495972\n",
            "Epoch: 10, Loss: 0.6914792060852051\n",
            "Epoch: 20, Loss: 0.6894930005073547\n",
            "Epoch: 30, Loss: 0.6876325607299805\n",
            "Epoch: 40, Loss: 0.6859011054039001\n",
            "Epoch: 50, Loss: 0.6842976212501526\n",
            "Epoch: 60, Loss: 0.6828171014785767\n",
            "Epoch: 70, Loss: 0.6814525723457336\n",
            "Epoch: 80, Loss: 0.6801965236663818\n",
            "Epoch: 90, Loss: 0.6790411472320557\n"
          ],
          "name": "stdout"
        }
      ]
    },
    {
      "cell_type": "code",
      "metadata": {
        "id": "0ZwrJT8Nckug",
        "colab_type": "code",
        "colab": {
          "base_uri": "https://localhost:8080/",
          "height": 374
        },
        "outputId": "34278095-6d19-4b82-a9c6-072c503239e5"
      },
      "source": [
        "plt.figure(figsize = (8,6))\n",
        "plt.plot(range(0,100), loss_list)\n",
        "plt.show()"
      ],
      "execution_count": 98,
      "outputs": [
        {
          "output_type": "display_data",
          "data": {
            "image/png": "[encoded data removed]",
            "text/plain": [
              "<Figure size 576x432 with 1 Axes>"
            ]
          },
          "metadata": {
            "tags": [],
            "needs_background": "light"
          }
        }
      ]
    }
  ]
}